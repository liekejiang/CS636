{
 "cells": [
  {
   "cell_type": "code",
   "execution_count": 1,
   "metadata": {},
   "outputs": [],
   "source": [
    "from PyQt5 import QtCore, QtGui, QtWidgets\n",
    "from PyQt5 import QtWidgets, QtCore, QtGui\n",
    "from PyQt5.QtGui import *\n",
    "from PyQt5.QtWidgets import *\n",
    "from PyQt5.QtCore import *\n",
    "from test_gui import test\n",
    "import cv2\n",
    "import numpy as np\n",
    "import qimage2ndarray"
   ]
  },
  {
   "cell_type": "code",
   "execution_count": 2,
   "metadata": {
    "scrolled": true
   },
   "outputs": [
    {
     "ename": "SystemExit",
     "evalue": "0",
     "output_type": "error",
     "traceback": [
      "An exception has occurred, use %tb to see the full traceback.\n",
      "\u001b[1;31mSystemExit\u001b[0m\u001b[1;31m:\u001b[0m 0\n"
     ]
    },
    {
     "name": "stderr",
     "output_type": "stream",
     "text": [
      "C:\\Users\\sunzh\\.conda\\envs\\TF1.13\\lib\\site-packages\\IPython\\core\\interactiveshell.py:3304: UserWarning: To exit: use 'exit', 'quit', or Ctrl-D.\n",
      "  warn(\"To exit: use 'exit', 'quit', or Ctrl-D.\", stacklevel=1)\n"
     ]
    }
   ],
   "source": [
    "class Ui_IMAGE(QWidget):\n",
    "    \n",
    "    \n",
    "    def setupUi(self, IMAGE):\n",
    "        \n",
    "        IMAGE.setObjectName(\"IMAGE\")\n",
    "        IMAGE.resize(990, 720)\n",
    "        IMAGE.setSizeGripEnabled(True)\n",
    "        \n",
    "        self.rcnn_image_path = ''\n",
    "\n",
    "        ## Button of find and upload image\n",
    "        self.choose_image = QtWidgets.QPushButton(IMAGE)\n",
    "        self.choose_image.setGeometry(QtCore.QRect(800, 150, 154, 37))\n",
    "        self.choose_image.setObjectName(\"choose_image\")\n",
    "        self.choose_image.clicked.connect(self.openimage)\n",
    "        \n",
    "        ## Button of close the APP\n",
    "        self.Button_close = QtWidgets.QPushButton(IMAGE)\n",
    "        self.Button_close.setGeometry(QtCore.QRect(800, 480, 151, 37))\n",
    "        self.Button_close.setObjectName(\"Button_close\")\n",
    "        self.Button_close.clicked.connect(IMAGE.close)     \n",
    "        \n",
    "        ## Button of evaluate the given image\n",
    "        self.detect = QtWidgets.QPushButton(IMAGE)\n",
    "        self.detect.setGeometry(QtCore.QRect(800, 310, 151, 37))\n",
    "        self.detect.setFocusPolicy(QtCore.Qt.NoFocus)\n",
    "        self.detect.setObjectName(\"detect\")\n",
    "        self.detect.clicked.connect(self.showimage)\n",
    "        \n",
    "        ## Label of showing the image\n",
    "        self.label = QtWidgets.QLabel(IMAGE)\n",
    "        self.label.setGeometry(QtCore.QRect(9, 84, 691, 551))\n",
    "        self.label.setMinimumSize(QtCore.QSize(400, 400))\n",
    "        self.label.setObjectName(\"label\")\n",
    "        \n",
    "#         self.label.setStyleSheet(\"QLabel{background:white;}\"\n",
    "#                                  \"QLabel{color:rgb(300,300,300,120);font-size:10px;font-weight:bold;font-family:宋体;}\"\n",
    "#                                  )\n",
    "        self.label.setStyleSheet(\"QLabel{background:white;}\"\n",
    "                                 \"QLabel{font-size:10px;font-weight:bold;font-family:宋体;}\"\n",
    "                                 )\n",
    "        \n",
    "        self.retranslateUi(IMAGE)\n",
    "        QtCore.QMetaObject.connectSlotsByName(IMAGE)\n",
    "        \n",
    "    def openimage(self):\n",
    "        imgName, imgType = QFileDialog.getOpenFileName(self, \"choose_image\", \"\", \"*.jpg;;*.png;;All Files(*)\")\n",
    "        self.rcnn_image_path = imgName\n",
    "        jpg = QtGui.QPixmap(imgName).scaled(self.label.width(), self.label.height())\n",
    "        self.label.setPixmap(jpg)\n",
    "        \n",
    "    ## doesn't need\n",
    "    def showimage(self):\n",
    "        img = test(self.rcnn_image_path)\n",
    "        img = img[:, :, (2, 1, 0)]\n",
    "        print(img.shape)\n",
    "        Qimg = qimage2ndarray.array2qimage(img)\n",
    "        \n",
    "        #QImg = QImage(img.data,img.shape[0],img.shape[1], img.shape[0]*3 ,QImage.Format_RGB888)\n",
    "        \n",
    "        pixmap = QPixmap.fromImage(Qimg)\n",
    "        jpg2 = QtGui.QPixmap(pixmap)\n",
    "        self.label.setPixmap(jpg2)    \n",
    "        print('done')\n",
    "\n",
    "\n",
    "    def retranslateUi(self, IMAGE):\n",
    "        _translate = QtCore.QCoreApplication.translate\n",
    "        IMAGE.setWindowTitle(_translate(\"IMAGE\", \"Dialog\"))\n",
    "        self.choose_image.setText(_translate(\"IMAGE\", \"choose image\"))\n",
    "        self.Button_close.setText(_translate(\"IMAGE\", \"close\"))\n",
    "        self.detect.setText(_translate(\"IMAGE\", \"RUN\"))\n",
    "        self.label.setText(_translate(\"IMAGE\", \"Show Image Here\"))\n",
    "\n",
    "\n",
    "if __name__ == \"__main__\":\n",
    "    import sys\n",
    "    app = QtWidgets.QApplication(sys.argv)\n",
    "    IMAGE = QtWidgets.QDialog()\n",
    "    ui = Ui_IMAGE()\n",
    "    ui.setupUi(IMAGE)\n",
    "    IMAGE.show()\n",
    "    sys.exit(app.exec_())\n"
   ]
  }
 ],
 "metadata": {
  "kernelspec": {
   "display_name": "Python 3",
   "language": "python",
   "name": "python3"
  },
  "language_info": {
   "codemirror_mode": {
    "name": "ipython",
    "version": 3
   },
   "file_extension": ".py",
   "mimetype": "text/x-python",
   "name": "python",
   "nbconvert_exporter": "python",
   "pygments_lexer": "ipython3",
   "version": "3.6.8"
  }
 },
 "nbformat": 4,
 "nbformat_minor": 2
}
